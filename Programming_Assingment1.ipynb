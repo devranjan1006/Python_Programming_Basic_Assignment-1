{
 "cells": [
  {
   "cell_type": "markdown",
   "metadata": {},
   "source": [
    "# Python Programming Assignment 1"
   ]
  },
  {
   "cell_type": "markdown",
   "metadata": {},
   "source": [
    "1.\tWrite a Python program to print \"Hello Python\"?\n"
   ]
  },
  {
   "cell_type": "code",
   "execution_count": 10,
   "metadata": {},
   "outputs": [
    {
     "name": "stdout",
     "output_type": "stream",
     "text": [
      "Hello Python\n"
     ]
    }
   ],
   "source": [
    "# printing the message\n",
    "print('Hello Python')"
   ]
  },
  {
   "cell_type": "markdown",
   "metadata": {},
   "source": [
    "2.\tWrite a Python program to do arithmetical operations addition and division.?\n"
   ]
  },
  {
   "cell_type": "code",
   "execution_count": 11,
   "metadata": {},
   "outputs": [],
   "source": [
    "# Program to do arithematic operations\n",
    "\n",
    "# Defining the addition funtion\n",
    "def add(a,b):\n",
    "    add = a+b\n",
    "    print('The addtion of two numbers is: ',add)\n",
    "\n",
    "# Defining the division function\n",
    "def div(a,b):\n",
    "    div = a/b\n",
    "    print('The division of two numbers is: ',div)\n"
   ]
  },
  {
   "cell_type": "code",
   "execution_count": 12,
   "metadata": {},
   "outputs": [
    {
     "name": "stdout",
     "output_type": "stream",
     "text": [
      "Enter the first integer: 2\n",
      "Enter the second integer: 9\n",
      "The addtion of two numbers is:  11\n",
      "The division of two numbers is:  0.2222222222222222\n"
     ]
    }
   ],
   "source": [
    "# taking the two numbers as input\n",
    "a = int(input('Enter the first integer: '))\n",
    "b = int(input('Enter the second integer: '))\n",
    "\n",
    "# Adding the numbers\n",
    "add(a,b)\n",
    "\n",
    "# Dividing the numbers\n",
    "div(a,b)"
   ]
  },
  {
   "cell_type": "markdown",
   "metadata": {},
   "source": [
    "3.\tWrite a Python program to find the area of a triangle?\n"
   ]
  },
  {
   "cell_type": "code",
   "execution_count": 19,
   "metadata": {},
   "outputs": [],
   "source": [
    "# Program to find the area of triangle\n",
    "\n",
    "# Defining the function to find the area of the triangle\n",
    "def area_of_triangle(b,h):\n",
    "    area = 0.5 * b * h\n",
    "    print('The area of the triangle is:',area,\"meters\")"
   ]
  },
  {
   "cell_type": "code",
   "execution_count": 20,
   "metadata": {},
   "outputs": [
    {
     "name": "stdout",
     "output_type": "stream",
     "text": [
      "Enter the base in meters: 66.2\n",
      "Enter the height in meters: 5\n",
      "The area of the triangle is: 165.5 meters\n"
     ]
    }
   ],
   "source": [
    "# taking the values of base and height as input\n",
    "b = float(input('Enter the base in meters: '))\n",
    "h = float(input('Enter the height in meters: '))\n",
    "\n",
    "# Calculating the area of the triangle\n",
    "area_of_triangle(b,h)"
   ]
  },
  {
   "cell_type": "markdown",
   "metadata": {},
   "source": [
    "4.\tWrite a Python program to swap two variables?\n"
   ]
  },
  {
   "cell_type": "code",
   "execution_count": 21,
   "metadata": {},
   "outputs": [],
   "source": [
    "# Program to swap values of two variables\n",
    "\n",
    "# Defining function to implement swpping\n",
    "def swap(a,b):\n",
    "    print('The values of a and b before swapping is {} and {} respectively'.format(a,b))\n",
    "    c = b\n",
    "    b = a\n",
    "    a = c\n",
    "    print('The values of a and b after swapping is {} and {} respectively'.format(a,b))"
   ]
  },
  {
   "cell_type": "code",
   "execution_count": 22,
   "metadata": {},
   "outputs": [
    {
     "name": "stdout",
     "output_type": "stream",
     "text": [
      "Enter the first number: 6\n",
      "Enter the second number: 4\n",
      "The values of a and b before swapping is 6 and 4 respectively\n",
      "The values of a and b after swapping is 4 and 6 respectively\n"
     ]
    }
   ],
   "source": [
    "# Taking the two numbers as input\n",
    "a = int(input('Enter the first number: '))\n",
    "b = int(input('Enter the second number: '))\n",
    "\n",
    "# Swapping the numbers\n",
    "swap(a,b)"
   ]
  },
  {
   "cell_type": "markdown",
   "metadata": {},
   "source": [
    "5.\tWrite a Python program to generate a random number?\n"
   ]
  },
  {
   "cell_type": "code",
   "execution_count": 18,
   "metadata": {},
   "outputs": [
    {
     "name": "stdout",
     "output_type": "stream",
     "text": [
      "5\n"
     ]
    }
   ],
   "source": [
    "# Program to generate a random number \n",
    "\n",
    "# importing the random module\n",
    "import random as rn\n",
    "\n",
    "# Generating a random number and printing it\n",
    "r=rn.randint(0,100)\n",
    "print(r)"
   ]
  }
 ],
 "metadata": {
  "kernelspec": {
   "display_name": "Python 3",
   "language": "python",
   "name": "python3"
  },
  "language_info": {
   "codemirror_mode": {
    "name": "ipython",
    "version": 3
   },
   "file_extension": ".py",
   "mimetype": "text/x-python",
   "name": "python",
   "nbconvert_exporter": "python",
   "pygments_lexer": "ipython3",
   "version": "3.8.5"
  }
 },
 "nbformat": 4,
 "nbformat_minor": 4
}
